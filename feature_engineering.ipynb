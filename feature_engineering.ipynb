{
 "cells": [
  {
   "cell_type": "markdown",
   "metadata": {
    "slideshow": {
     "slide_type": "subslide"
    }
   },
   "source": [
    "# Feature Engineering"
   ]
  },
  {
   "cell_type": "markdown",
   "metadata": {
    "slideshow": {
     "slide_type": "subslide"
    }
   },
   "source": [
    "# Por qué? Cuándo?"
   ]
  },
  {
   "cell_type": "markdown",
   "metadata": {
    "slideshow": {
     "slide_type": "fragment"
    }
   },
   "source": [
    "Los datos a veces pueden ser \"tuneados\" para **mejorar la capacidad de expresar el problema**, para **ayudar al modelo a aprender** más fácil.\n",
    "\n",
    "Ej: en un problema de predecir tráfico en una calle por momento del día, en lugar de dar una columna de entrada con un datetime, dar 2 columnas con día de la semana y momento del día ya extraídos."
   ]
  },
  {
   "cell_type": "markdown",
   "metadata": {
    "slideshow": {
     "slide_type": "fragment"
    }
   },
   "source": [
    "Se puede ver como parte de la fase de **limpieza y pre procesado**, aunque muchos lo piensan como algo diferente. También es borroso el límite con técnicas de selección de features (como las cosas que vimos en el análisis exploratorio).\n",
    "\n",
    "En qué difieren? El preprocesado y limpieza más básico deja datos \"listos\". Feature engineering deja datos \"más expresivos\"."
   ]
  },
  {
   "cell_type": "markdown",
   "metadata": {
    "slideshow": {
     "slide_type": "subslide"
    }
   },
   "source": [
    "![](files/images/ml_process.svg)"
   ]
  },
  {
   "cell_type": "markdown",
   "metadata": {
    "slideshow": {
     "slide_type": "subslide"
    }
   },
   "source": [
    "# Cómo se hace?"
   ]
  },
  {
   "cell_type": "markdown",
   "metadata": {
    "slideshow": {
     "slide_type": "fragment"
    }
   },
   "source": [
    "- No es una ciencia exacta. \n",
    "- Depende mucho del **problema** y de nuestra habilidad para descubrir cómo **expresar mejor la información**.\n",
    "- En algunos modelos y problemas **no** es necesario (ej: redes neuronales con imágenes).\n",
    "- Es un proceso **iterativo**: idear features, probar modelos con las features, seleccionar, volver a empezar.\n",
    "\n",
    "Hoy vamos a ver varios ejemplos comunes de creación de features. Pero no es una \"lista completa de técnicas de feature engineering\"."
   ]
  },
  {
   "cell_type": "markdown",
   "metadata": {
    "slideshow": {
     "slide_type": "subslide"
    }
   },
   "source": [
    "# Técnica 1: features no lineales para modelos lineales\n",
    "\n",
    "a.k.a. Términos de interacción"
   ]
  },
  {
   "cell_type": "markdown",
   "metadata": {
    "slideshow": {
     "slide_type": "fragment"
    }
   },
   "source": [
    "**Para qué?** Para poder seguir usando un modelo simple lineal (Linear Regression, Logistic Regression), con datos que no son lineales."
   ]
  },
  {
   "cell_type": "markdown",
   "metadata": {
    "slideshow": {
     "slide_type": "fragment"
    }
   },
   "source": [
    "Los modelos lineales solo pueden aprender **rectas**. \n",
    "\n",
    "Si mis datos no son una recta (regresión) o separables por una recta (clasificación), el modelo no sirve!\n",
    "\n",
    "Pero si nuestros datos de entrada ya están elevados a algún exponente, ahora sí **una recta puede acomodarse a mis datos**."
   ]
  },
  {
   "cell_type": "markdown",
   "metadata": {
    "slideshow": {
     "slide_type": "subslide"
    }
   },
   "source": [
    "![](files/images/non_linear_data.svg)"
   ]
  },
  {
   "cell_type": "markdown",
   "metadata": {
    "slideshow": {
     "slide_type": "subslide"
    }
   },
   "source": [
    "![](files/images/linearized_data.svg)"
   ]
  },
  {
   "cell_type": "markdown",
   "metadata": {
    "slideshow": {
     "slide_type": "subslide"
    }
   },
   "source": [
    "- Se pueden incluso agregar features que operen entre variables! (ej: x1 * x2)\n",
    "- **Super simple**.\n",
    "- Me permite seguir usando modelos que son super rápidos y simples en casos que antes no podía.\n",
    "- Hay que probar (qué features, a qué exponentes, etc)."
   ]
  },
  {
   "cell_type": "markdown",
   "metadata": {
    "slideshow": {
     "slide_type": "subslide"
    }
   },
   "source": [
    "# Técnica 2: crear features extrayendo info de otras features"
   ]
  },
  {
   "cell_type": "markdown",
   "metadata": {
    "slideshow": {
     "slide_type": "fragment"
    }
   },
   "source": [
    "Básicamente, encontramos columnas que contienen **información \"escondida\"**, y separamos esa información en **nuevas columnas**."
   ]
  },
  {
   "cell_type": "markdown",
   "metadata": {
    "slideshow": {
     "slide_type": "subslide"
    }
   },
   "source": [
    "![](files/images/titles_before.svg)"
   ]
  },
  {
   "cell_type": "markdown",
   "metadata": {
    "slideshow": {
     "slide_type": "subslide"
    }
   },
   "source": [
    "![](files/images/titles_after.svg)"
   ]
  },
  {
   "cell_type": "markdown",
   "metadata": {
    "slideshow": {
     "slide_type": "subslide"
    }
   },
   "source": [
    "Usos típicos:\n",
    "\n",
    "- Momento del día.\n",
    "- Solo fecha / solo hora.\n",
    "- Medidas o coordenadas por separado (ej: latitud y longitud como valores separados).\n",
    "- Región geográfica (extraer país, continente, zona, etc).\n",
    "- Clase de producto / cliente / etc."
   ]
  },
  {
   "cell_type": "markdown",
   "metadata": {
    "slideshow": {
     "slide_type": "subslide"
    }
   },
   "source": [
    "- Evita que el modelo tenga que aprender a extraer esa información. **Aprende más rápido**.\n",
    "- Depende de nuestra viveza para descubrir nuevas features."
   ]
  },
  {
   "cell_type": "markdown",
   "metadata": {
    "slideshow": {
     "slide_type": "subslide"
    }
   },
   "source": [
    "# Técnica 3: binning / redondeo de números"
   ]
  },
  {
   "cell_type": "markdown",
   "metadata": {
    "slideshow": {
     "slide_type": "fragment"
    }
   },
   "source": [
    "Muchas veces la info numérica puede tener demasiado detalle, **facilitando sobreentrenamiento** o **complicando encontrar límites** duros (ej: cambio de precio por kilo en envío).\n",
    "\n",
    "Redondear o convertir a rangos fijos (binning) esos números puede ayudar mucho."
   ]
  },
  {
   "cell_type": "markdown",
   "metadata": {
    "slideshow": {
     "slide_type": "subslide"
    }
   },
   "source": [
    "![](files/images/rounding_before.svg)"
   ]
  },
  {
   "cell_type": "markdown",
   "metadata": {
    "slideshow": {
     "slide_type": "subslide"
    }
   },
   "source": [
    "![](files/images/rounding_after.svg)"
   ]
  },
  {
   "cell_type": "markdown",
   "metadata": {
    "slideshow": {
     "slide_type": "subslide"
    }
   },
   "source": [
    "- Lo que estamos haciendo es **sacar ruido** y dejar información.\n",
    "- **Puede evitar que el modelo se sobreentrene** en decimales/valores aleatorios que no definen al problema.\n",
    "- Evita que el modelo tenga que aprender los rangos significativos por si solo. **Aprende más rápido**.\n",
    "- Depende de nuestra habilidad para determinar el nivel de precisión significativo para cada feature."
   ]
  },
  {
   "cell_type": "markdown",
   "metadata": {
    "slideshow": {
     "slide_type": "subslide"
    }
   },
   "source": [
    "# Técnica 4: features a partir de datos pasados"
   ]
  },
  {
   "cell_type": "markdown",
   "metadata": {
    "slideshow": {
     "slide_type": "fragment"
    }
   },
   "source": [
    "Esto aplica cuando tenemos datos que se ubican en el **tiempo** (ej: ventas individuales con fechas).\n",
    "\n",
    "Muchas veces podemos darle a cada sample un **\"resumen\" de datos pasados relacionados** a ese mismo sample."
   ]
  },
  {
   "cell_type": "markdown",
   "metadata": {
    "slideshow": {
     "slide_type": "subslide"
    }
   },
   "source": [
    "![](files/images/time_grouping_before.svg)"
   ]
  },
  {
   "cell_type": "markdown",
   "metadata": {
    "slideshow": {
     "slide_type": "subslide"
    }
   },
   "source": [
    "![](files/images/time_grouping_after.svg)"
   ]
  },
  {
   "cell_type": "markdown",
   "metadata": {
    "slideshow": {
     "slide_type": "subslide"
    }
   },
   "source": [
    "- **CUIDADO!**: nunca incluir data futura!! (cuando tengamos que predecir demora de una venta, vamos a conocer solo el pasado, no tenemos bola de cristal)\n",
    "- Puede aportar **mucha info nueva** al modelo, que de otra forma sería extremádamente difícil de aprender.\n",
    "- Depende de nuestra habilidad para encontrar esa relaciones entre samples, no siempre es obvio."
   ]
  },
  {
   "cell_type": "markdown",
   "metadata": {
    "slideshow": {
     "slide_type": "subslide"
    }
   },
   "source": [
    "# Y mucho más..."
   ]
  },
  {
   "cell_type": "markdown",
   "metadata": {
    "slideshow": {
     "slide_type": "fragment"
    }
   },
   "source": [
    "Como dijimos al inicio, depende mucho de nuestro **problema** y nuestra habilidad para **detectar información útil** en los datos."
   ]
  }
 ],
 "metadata": {
  "celltoolbar": "Slideshow",
  "hide_input": false,
  "kernelspec": {
   "display_name": "Python 3",
   "language": "python",
   "name": "python3"
  },
  "language_info": {
   "codemirror_mode": {
    "name": "ipython",
    "version": 3
   },
   "file_extension": ".py",
   "mimetype": "text/x-python",
   "name": "python",
   "nbconvert_exporter": "python",
   "pygments_lexer": "ipython3",
   "version": "3.7.6"
  },
  "toc": {
   "base_numbering": 1,
   "nav_menu": {},
   "number_sections": false,
   "sideBar": true,
   "skip_h1_title": false,
   "title_cell": "Table of Contents",
   "title_sidebar": "Contents",
   "toc_cell": false,
   "toc_position": {},
   "toc_section_display": true,
   "toc_window_display": false
  }
 },
 "nbformat": 4,
 "nbformat_minor": 1
}
