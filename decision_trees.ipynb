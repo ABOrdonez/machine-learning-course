{
 "cells": [
  {
   "cell_type": "markdown",
   "metadata": {
    "slideshow": {
     "slide_type": "slide"
    }
   },
   "source": [
    "Árboles de decisión\n",
    "================"
   ]
  },
  {
   "cell_type": "markdown",
   "metadata": {
    "slideshow": {
     "slide_type": "fragment"
    }
   },
   "source": [
    "- Uno de los métodos más utilizados.\n",
    "\n",
    "- Fáciles y rápidos de construir.\n",
    "\n",
    "- Modelo no-paramétrico: vamos a definir un montón de hiper-parámetros pero el modelo en sí no va a tener pesos ni nada de eso.\n",
    "\n",
    "- **White-box model**: permiten inferir conocimiento de qué es lo que está pasando.\n",
    "\n",
    "- El proceso de construcción del árbol realiza un filtrado de variables (estilo embebbed).\n",
    "\n",
    "- El árbol puede ser expresado como un conjunto de reglas \"if-then\".\n",
    "\n",
    "- Podemos utilizarlos para clasificación y regresión."
   ]
  },
  {
   "cell_type": "markdown",
   "metadata": {
    "slideshow": {
     "slide_type": "fragment"
    }
   },
   "source": [
    "(Inicialmente nos vamos a concentrar en problemas de clasificación)"
   ]
  },
  {
   "cell_type": "markdown",
   "metadata": {
    "slideshow": {
     "slide_type": "subslide"
    }
   },
   "source": [
    "# Cuándo?"
   ]
  },
  {
   "cell_type": "markdown",
   "metadata": {
    "slideshow": {
     "slide_type": "fragment"
    }
   },
   "source": [
    "- Me interesa dar explicaciones de las salidas que da el modelo\n",
    "- Prototipo rápido: no necesito demasiado pre-procesado\n",
    "- Dominios complejos donde no existe una clara separación lineal en los datos\n",
    "- Si tengo que predecir rápido (≈ log(n_train))\n",
    "- Tengo variables categóricas y numéricas\n",
    "- Cuando tengo más de dos clases, o múltiples etiquetas!"
   ]
  },
  {
   "cell_type": "markdown",
   "metadata": {
    "slideshow": {
     "slide_type": "subslide"
    }
   },
   "source": [
    "# Representación del árbol"
   ]
  },
  {
   "cell_type": "markdown",
   "metadata": {
    "slideshow": {
     "slide_type": "fragment"
    }
   },
   "source": [
    "- Cada nodo especifica una prueba contra algún atributo (variable de entrada)\n",
    "- Cada rama descendente está relacionada con algún valor posible de dicho atributo\n",
    "- Cada nodo hoja va a tener una etiqueta o clase determinada"
   ]
  },
  {
   "cell_type": "markdown",
   "metadata": {
    "slideshow": {
     "slide_type": "subslide"
    }
   },
   "source": [
    "# Ejemplo: ayudando a fisa a encontrar una estrella"
   ]
  },
  {
   "cell_type": "code",
   "execution_count": 3,
   "metadata": {
    "slideshow": {
     "slide_type": "fragment"
    }
   },
   "outputs": [
    {
     "data": {
      "text/html": [
       "<div>\n",
       "<style scoped>\n",
       "    .dataframe tbody tr th:only-of-type {\n",
       "        vertical-align: middle;\n",
       "    }\n",
       "\n",
       "    .dataframe tbody tr th {\n",
       "        vertical-align: top;\n",
       "    }\n",
       "\n",
       "    .dataframe thead th {\n",
       "        text-align: right;\n",
       "    }\n",
       "</style>\n",
       "<table border=\"1\" class=\"dataframe\">\n",
       "  <thead>\n",
       "    <tr style=\"text-align: right;\">\n",
       "      <th></th>\n",
       "      <th>dia</th>\n",
       "      <th>nubosidad</th>\n",
       "      <th>temperatura</th>\n",
       "      <th>humedad</th>\n",
       "      <th>viento</th>\n",
       "      <th>estrellas_visibles</th>\n",
       "    </tr>\n",
       "  </thead>\n",
       "  <tbody>\n",
       "    <tr>\n",
       "      <th>0</th>\n",
       "      <td>1</td>\n",
       "      <td>soleado</td>\n",
       "      <td>caluroso</td>\n",
       "      <td>alta</td>\n",
       "      <td>leve</td>\n",
       "      <td>no</td>\n",
       "    </tr>\n",
       "    <tr>\n",
       "      <th>1</th>\n",
       "      <td>2</td>\n",
       "      <td>soleado</td>\n",
       "      <td>caluroso</td>\n",
       "      <td>alta</td>\n",
       "      <td>fuerte</td>\n",
       "      <td>no</td>\n",
       "    </tr>\n",
       "    <tr>\n",
       "      <th>2</th>\n",
       "      <td>3</td>\n",
       "      <td>nublado</td>\n",
       "      <td>caluroso</td>\n",
       "      <td>alta</td>\n",
       "      <td>leve</td>\n",
       "      <td>si</td>\n",
       "    </tr>\n",
       "    <tr>\n",
       "      <th>3</th>\n",
       "      <td>4</td>\n",
       "      <td>lluvia</td>\n",
       "      <td>templado</td>\n",
       "      <td>alta</td>\n",
       "      <td>leve</td>\n",
       "      <td>si</td>\n",
       "    </tr>\n",
       "    <tr>\n",
       "      <th>4</th>\n",
       "      <td>5</td>\n",
       "      <td>lluvia</td>\n",
       "      <td>frio</td>\n",
       "      <td>normal</td>\n",
       "      <td>leve</td>\n",
       "      <td>si</td>\n",
       "    </tr>\n",
       "    <tr>\n",
       "      <th>5</th>\n",
       "      <td>6</td>\n",
       "      <td>lluvia</td>\n",
       "      <td>frio</td>\n",
       "      <td>normal</td>\n",
       "      <td>fuerte</td>\n",
       "      <td>no</td>\n",
       "    </tr>\n",
       "    <tr>\n",
       "      <th>6</th>\n",
       "      <td>7</td>\n",
       "      <td>nublado</td>\n",
       "      <td>frio</td>\n",
       "      <td>normal</td>\n",
       "      <td>fuerte</td>\n",
       "      <td>si</td>\n",
       "    </tr>\n",
       "    <tr>\n",
       "      <th>7</th>\n",
       "      <td>8</td>\n",
       "      <td>soleado</td>\n",
       "      <td>templado</td>\n",
       "      <td>alta</td>\n",
       "      <td>leve</td>\n",
       "      <td>no</td>\n",
       "    </tr>\n",
       "    <tr>\n",
       "      <th>8</th>\n",
       "      <td>9</td>\n",
       "      <td>soleado</td>\n",
       "      <td>frio</td>\n",
       "      <td>normal</td>\n",
       "      <td>leve</td>\n",
       "      <td>si</td>\n",
       "    </tr>\n",
       "    <tr>\n",
       "      <th>9</th>\n",
       "      <td>10</td>\n",
       "      <td>lluvia</td>\n",
       "      <td>templado</td>\n",
       "      <td>normal</td>\n",
       "      <td>leve</td>\n",
       "      <td>si</td>\n",
       "    </tr>\n",
       "    <tr>\n",
       "      <th>10</th>\n",
       "      <td>11</td>\n",
       "      <td>soleado</td>\n",
       "      <td>templado</td>\n",
       "      <td>normal</td>\n",
       "      <td>fuerte</td>\n",
       "      <td>si</td>\n",
       "    </tr>\n",
       "    <tr>\n",
       "      <th>11</th>\n",
       "      <td>12</td>\n",
       "      <td>nublado</td>\n",
       "      <td>templado</td>\n",
       "      <td>alta</td>\n",
       "      <td>fuerte</td>\n",
       "      <td>si</td>\n",
       "    </tr>\n",
       "    <tr>\n",
       "      <th>12</th>\n",
       "      <td>13</td>\n",
       "      <td>nublado</td>\n",
       "      <td>caluroso</td>\n",
       "      <td>normal</td>\n",
       "      <td>leve</td>\n",
       "      <td>si</td>\n",
       "    </tr>\n",
       "    <tr>\n",
       "      <th>13</th>\n",
       "      <td>14</td>\n",
       "      <td>lluvia</td>\n",
       "      <td>templado</td>\n",
       "      <td>alta</td>\n",
       "      <td>fuerte</td>\n",
       "      <td>no</td>\n",
       "    </tr>\n",
       "  </tbody>\n",
       "</table>\n",
       "</div>"
      ],
      "text/plain": [
       "    dia nubosidad temperatura humedad  viento estrellas_visibles\n",
       "0     1   soleado    caluroso    alta    leve                 no\n",
       "1     2   soleado    caluroso    alta  fuerte                 no\n",
       "2     3   nublado    caluroso    alta    leve                 si\n",
       "3     4    lluvia    templado    alta    leve                 si\n",
       "4     5    lluvia        frio  normal    leve                 si\n",
       "5     6    lluvia        frio  normal  fuerte                 no\n",
       "6     7   nublado        frio  normal  fuerte                 si\n",
       "7     8   soleado    templado    alta    leve                 no\n",
       "8     9   soleado        frio  normal    leve                 si\n",
       "9    10    lluvia    templado  normal    leve                 si\n",
       "10   11   soleado    templado  normal  fuerte                 si\n",
       "11   12   nublado    templado    alta  fuerte                 si\n",
       "12   13   nublado    caluroso  normal    leve                 si\n",
       "13   14    lluvia    templado    alta  fuerte                 no"
      ]
     },
     "execution_count": 3,
     "metadata": {},
     "output_type": "execute_result"
    }
   ],
   "source": [
    "import pandas as pd\n",
    "df = pd.read_csv('data/astronomia.csv', sep=';')\n",
    "df"
   ]
  },
  {
   "cell_type": "markdown",
   "metadata": {
    "slideshow": {
     "slide_type": "subslide"
    }
   },
   "source": [
    "![](files/images/decision_tree_1.PNG)"
   ]
  },
  {
   "cell_type": "markdown",
   "metadata": {
    "slideshow": {
     "slide_type": "fragment"
    }
   },
   "source": [
    "### ¿Cómo clasificamos la siguiente instancia?:\n",
    "\n",
    "nubosidad = soleado\n",
    "\n",
    "temperatura = alta\n",
    "\n",
    "humedad = alta\n",
    "\n",
    "viento = fuerte"
   ]
  },
  {
   "cell_type": "markdown",
   "metadata": {
    "slideshow": {
     "slide_type": "subslide"
    }
   },
   "source": [
    "# Pero, ¿árbol o conjunto de reglas?"
   ]
  },
  {
   "cell_type": "markdown",
   "metadata": {
    "slideshow": {
     "slide_type": "fragment"
    }
   },
   "source": [
    "** En realidad un árbol es una disyunción de conjunciones! **"
   ]
  },
  {
   "cell_type": "markdown",
   "metadata": {
    "slideshow": {
     "slide_type": "fragment"
    }
   },
   "source": [
    "- Un camino del árbol es una ** conjunción** de pruebas sobre distintos atributos\n",
    "\n",
    "- El árbol es una ** disyunción ** de esas conjunciones"
   ]
  },
  {
   "cell_type": "markdown",
   "metadata": {
    "slideshow": {
     "slide_type": "fragment"
    }
   },
   "source": [
    "## Ergo, un árbol es un conjunto de reglas:"
   ]
  },
  {
   "cell_type": "markdown",
   "metadata": {
    "slideshow": {
     "slide_type": "fragment"
    }
   },
   "source": [
    "(nubosidad=soleado AND humedad=normal) OR (nubosidad=nublado) OR (nubosidad=lluvia AND viento=leve)"
   ]
  },
  {
   "cell_type": "markdown",
   "metadata": {
    "slideshow": {
     "slide_type": "subslide"
    }
   },
   "source": [
    "# Conjunto completo de reglas"
   ]
  },
  {
   "cell_type": "markdown",
   "metadata": {
    "slideshow": {
     "slide_type": "fragment"
    }
   },
   "source": [
    "- R1: Si (nubosidad=soleado) Y (humedad=alta) entonces estrellas_visibles=No\n",
    "- R2: Si (nubosidad=soleado) Y (humedad=normal) entonces estrellas_visibles=Yes\n",
    "- R3: Si (nubosidad=nublado) entonces estrellas_visibles=Yes\n",
    "- R4: Si (nubosidad=lluvia) Y (viento=fuerte) entonces estrellas_visibles=No\n",
    "- R5: Si (nubosidad=lluvia) Y (viento=leve) entonces estrellas_visibles=Yes"
   ]
  },
  {
   "cell_type": "markdown",
   "metadata": {
    "slideshow": {
     "slide_type": "subslide"
    }
   },
   "source": [
    "# Aprendiendo un árbol ..."
   ]
  },
  {
   "cell_type": "markdown",
   "metadata": {
    "slideshow": {
     "slide_type": "fragment"
    }
   },
   "source": [
    "Existen muchos algoritmos distintos (CLS, ID3, C4.5, ID4, ID5, C4.8, C5.0)"
   ]
  },
  {
   "cell_type": "markdown",
   "metadata": {
    "slideshow": {
     "slide_type": "subslide"
    }
   },
   "source": [
    "# Algoritmo básico: ID3 (Iterative Dicotomiser)"
   ]
  },
  {
   "cell_type": "markdown",
   "metadata": {
    "slideshow": {
     "slide_type": "fragment"
    }
   },
   "source": [
    "- Búsqueda voraz por el espacio de todos los árboles de clasificación posibles\n",
    "- Enfoque top-down (el árbol se constuye desde la raíz hacia las hojas)\n",
    "- Para cada nodo se pregunta: qué atributo debería ser utilizado en este momento?\n",
    "- Crea una rama por cada valor posible de ese atributo\n",
    "- Se repite el proceso sacando del conjunto de atributos los que ya se utilizaron anteriormente en esa rama\n",
    "- Termina cuando todas las instancias pertenecen a la misma clase o todos los atributos fueron utilizados\n",
    "- Se etiqueta los nodos hoja usando la mayoría de las instancias que caen dentro de ese camino"
   ]
  },
  {
   "cell_type": "code",
   "execution_count": 6,
   "metadata": {
    "slideshow": {
     "slide_type": "subslide"
    }
   },
   "outputs": [
    {
     "data": {
      "text/html": [
       "<div>\n",
       "<style scoped>\n",
       "    .dataframe tbody tr th:only-of-type {\n",
       "        vertical-align: middle;\n",
       "    }\n",
       "\n",
       "    .dataframe tbody tr th {\n",
       "        vertical-align: top;\n",
       "    }\n",
       "\n",
       "    .dataframe thead th {\n",
       "        text-align: right;\n",
       "    }\n",
       "</style>\n",
       "<table border=\"1\" class=\"dataframe\">\n",
       "  <thead>\n",
       "    <tr style=\"text-align: right;\">\n",
       "      <th></th>\n",
       "      <th>dia</th>\n",
       "      <th>nubosidad</th>\n",
       "      <th>temperatura</th>\n",
       "      <th>humedad</th>\n",
       "      <th>viento</th>\n",
       "      <th>estrellas_visibles</th>\n",
       "    </tr>\n",
       "  </thead>\n",
       "  <tbody>\n",
       "    <tr>\n",
       "      <th>0</th>\n",
       "      <td>1</td>\n",
       "      <td>soleado</td>\n",
       "      <td>caluroso</td>\n",
       "      <td>alta</td>\n",
       "      <td>leve</td>\n",
       "      <td>no</td>\n",
       "    </tr>\n",
       "    <tr>\n",
       "      <th>1</th>\n",
       "      <td>2</td>\n",
       "      <td>soleado</td>\n",
       "      <td>caluroso</td>\n",
       "      <td>alta</td>\n",
       "      <td>fuerte</td>\n",
       "      <td>no</td>\n",
       "    </tr>\n",
       "    <tr>\n",
       "      <th>2</th>\n",
       "      <td>3</td>\n",
       "      <td>nublado</td>\n",
       "      <td>caluroso</td>\n",
       "      <td>alta</td>\n",
       "      <td>leve</td>\n",
       "      <td>si</td>\n",
       "    </tr>\n",
       "    <tr>\n",
       "      <th>3</th>\n",
       "      <td>4</td>\n",
       "      <td>lluvia</td>\n",
       "      <td>templado</td>\n",
       "      <td>alta</td>\n",
       "      <td>leve</td>\n",
       "      <td>si</td>\n",
       "    </tr>\n",
       "    <tr>\n",
       "      <th>4</th>\n",
       "      <td>5</td>\n",
       "      <td>lluvia</td>\n",
       "      <td>frio</td>\n",
       "      <td>normal</td>\n",
       "      <td>leve</td>\n",
       "      <td>si</td>\n",
       "    </tr>\n",
       "    <tr>\n",
       "      <th>5</th>\n",
       "      <td>6</td>\n",
       "      <td>lluvia</td>\n",
       "      <td>frio</td>\n",
       "      <td>normal</td>\n",
       "      <td>fuerte</td>\n",
       "      <td>no</td>\n",
       "    </tr>\n",
       "    <tr>\n",
       "      <th>6</th>\n",
       "      <td>7</td>\n",
       "      <td>nublado</td>\n",
       "      <td>frio</td>\n",
       "      <td>normal</td>\n",
       "      <td>fuerte</td>\n",
       "      <td>si</td>\n",
       "    </tr>\n",
       "    <tr>\n",
       "      <th>7</th>\n",
       "      <td>8</td>\n",
       "      <td>soleado</td>\n",
       "      <td>templado</td>\n",
       "      <td>alta</td>\n",
       "      <td>leve</td>\n",
       "      <td>no</td>\n",
       "    </tr>\n",
       "    <tr>\n",
       "      <th>8</th>\n",
       "      <td>9</td>\n",
       "      <td>soleado</td>\n",
       "      <td>frio</td>\n",
       "      <td>normal</td>\n",
       "      <td>leve</td>\n",
       "      <td>si</td>\n",
       "    </tr>\n",
       "    <tr>\n",
       "      <th>9</th>\n",
       "      <td>10</td>\n",
       "      <td>lluvia</td>\n",
       "      <td>templado</td>\n",
       "      <td>normal</td>\n",
       "      <td>leve</td>\n",
       "      <td>si</td>\n",
       "    </tr>\n",
       "    <tr>\n",
       "      <th>10</th>\n",
       "      <td>11</td>\n",
       "      <td>soleado</td>\n",
       "      <td>templado</td>\n",
       "      <td>normal</td>\n",
       "      <td>fuerte</td>\n",
       "      <td>si</td>\n",
       "    </tr>\n",
       "    <tr>\n",
       "      <th>11</th>\n",
       "      <td>12</td>\n",
       "      <td>despejado</td>\n",
       "      <td>templado</td>\n",
       "      <td>alta</td>\n",
       "      <td>fuerte</td>\n",
       "      <td>si</td>\n",
       "    </tr>\n",
       "    <tr>\n",
       "      <th>12</th>\n",
       "      <td>13</td>\n",
       "      <td>despejado</td>\n",
       "      <td>caluroso</td>\n",
       "      <td>normal</td>\n",
       "      <td>leve</td>\n",
       "      <td>si</td>\n",
       "    </tr>\n",
       "    <tr>\n",
       "      <th>13</th>\n",
       "      <td>14</td>\n",
       "      <td>lluvia</td>\n",
       "      <td>templado</td>\n",
       "      <td>alta</td>\n",
       "      <td>fuerte</td>\n",
       "      <td>no</td>\n",
       "    </tr>\n",
       "  </tbody>\n",
       "</table>\n",
       "</div>"
      ],
      "text/plain": [
       "    dia  nubosidad temperatura humedad  viento estrellas_visibles\n",
       "0     1    soleado    caluroso    alta    leve                 no\n",
       "1     2    soleado    caluroso    alta  fuerte                 no\n",
       "2     3    nublado    caluroso    alta    leve                 si\n",
       "3     4     lluvia    templado    alta    leve                 si\n",
       "4     5     lluvia        frio  normal    leve                 si\n",
       "5     6     lluvia        frio  normal  fuerte                 no\n",
       "6     7    nublado        frio  normal  fuerte                 si\n",
       "7     8    soleado    templado    alta    leve                 no\n",
       "8     9    soleado        frio  normal    leve                 si\n",
       "9    10     lluvia    templado  normal    leve                 si\n",
       "10   11    soleado    templado  normal  fuerte                 si\n",
       "11   12  despejado    templado    alta  fuerte                 si\n",
       "12   13  despejado    caluroso  normal    leve                 si\n",
       "13   14     lluvia    templado    alta  fuerte                 no"
      ]
     },
     "execution_count": 6,
     "metadata": {},
     "output_type": "execute_result"
    }
   ],
   "source": [
    "df"
   ]
  },
  {
   "cell_type": "code",
   "execution_count": 5,
   "metadata": {
    "collapsed": true,
    "slideshow": {
     "slide_type": "subslide"
    }
   },
   "outputs": [],
   "source": [
    "# Obtener el mejor atributo para el nodo raíz.\n",
    "best_attribute = get_best_attribute_to_test(attributes=dataset.columns_names, data=train_data)\n",
    "\n",
    "# Generar el nodo raíz con las ramas y los nodos a crear (si fuese necesario).\n",
    "nodes = tree.add_node(Node(attribute=best_attribute, \n",
    "                           remaining_attributes=dataset.columns_names,\n",
    "                           dataset[best_attribute]))\n",
    "\n",
    "to_process.extend(nodes)\n",
    "\n",
    "while to_process:\n",
    "    \n",
    "    current_node = to_process.pop()\n",
    "    \n",
    "    # Verifico si es un nodo hoja.\n",
    "    if(len(set(current_node.class_labels) > 1) or (len(current_node.remaining_attributes) > 0)):\n",
    "        # Determinar el mejor atributo dentro de los que no fueron evaluados en ese camino.\n",
    "        best_attribute = get_best_attribute_to_test(attributes=current_node.remaining_attributes,\n",
    "                                                    data=train_data)\n",
    "\n",
    "        # Generar las ramas y los nodos a crear (si fuese necesario).\n",
    "        nodes = tree.add_node(Node(attribute=best_attribute, \n",
    "                                   remaining_attributes=current_node.remaining_attributes,\n",
    "                                   dataset[best_attribute].unique()))\n",
    "\n",
    "        to_process.extend(nodes)\n",
    "    else:\n",
    "        tree.add_leaf(current_node.class_labels[0])"
   ]
  },
  {
   "cell_type": "markdown",
   "metadata": {},
   "source": [
    "![](files/images/decision_tree_1.PNG)"
   ]
  },
  {
   "cell_type": "markdown",
   "metadata": {
    "slideshow": {
     "slide_type": "subslide"
    }
   },
   "source": [
    "## ¿Cómo elegir cuál es el mejor atributo en cada caso?"
   ]
  },
  {
   "cell_type": "markdown",
   "metadata": {
    "slideshow": {
     "slide_type": "fragment"
    }
   },
   "source": [
    "Queremos elegir el atributo que haga que los datos se separen lo mejor posible !"
   ]
  },
  {
   "cell_type": "markdown",
   "metadata": {
    "slideshow": {
     "slide_type": "fragment"
    }
   },
   "source": [
    "Para eso usamos el concepto de Información Mutua:"
   ]
  },
  {
   "cell_type": "markdown",
   "metadata": {
    "slideshow": {
     "slide_type": "fragment"
    }
   },
   "source": [
    "$$ I(C, X_i) = H(C) - H(C | X_i) $$\n",
    "\n",
    "donde\n",
    "\n",
    "$$ H(C) = - \\sum_{c} p(c) \\log_2 p(c) $$\n",
    "$$ H(C|X)= - \\sum_{c} \\sum_{x} p(x,c) \\log_2 p(c|x) $$"
   ]
  },
  {
   "cell_type": "markdown",
   "metadata": {
    "slideshow": {
     "slide_type": "subslide"
    }
   },
   "source": [
    "![](files/images/meme_dog.gif)"
   ]
  },
  {
   "cell_type": "code",
   "execution_count": 4,
   "metadata": {
    "slideshow": {
     "slide_type": "subslide"
    }
   },
   "outputs": [
    {
     "data": {
      "text/html": [
       "<div>\n",
       "<style scoped>\n",
       "    .dataframe tbody tr th:only-of-type {\n",
       "        vertical-align: middle;\n",
       "    }\n",
       "\n",
       "    .dataframe tbody tr th {\n",
       "        vertical-align: top;\n",
       "    }\n",
       "\n",
       "    .dataframe thead th {\n",
       "        text-align: right;\n",
       "    }\n",
       "</style>\n",
       "<table border=\"1\" class=\"dataframe\">\n",
       "  <thead>\n",
       "    <tr style=\"text-align: right;\">\n",
       "      <th></th>\n",
       "      <th>dia</th>\n",
       "      <th>nubosidad</th>\n",
       "      <th>temperatura</th>\n",
       "      <th>humedad</th>\n",
       "      <th>viento</th>\n",
       "      <th>estrellas_visibles</th>\n",
       "    </tr>\n",
       "  </thead>\n",
       "  <tbody>\n",
       "    <tr>\n",
       "      <th>0</th>\n",
       "      <td>1</td>\n",
       "      <td>soleado</td>\n",
       "      <td>caluroso</td>\n",
       "      <td>alta</td>\n",
       "      <td>leve</td>\n",
       "      <td>no</td>\n",
       "    </tr>\n",
       "    <tr>\n",
       "      <th>1</th>\n",
       "      <td>2</td>\n",
       "      <td>soleado</td>\n",
       "      <td>caluroso</td>\n",
       "      <td>alta</td>\n",
       "      <td>fuerte</td>\n",
       "      <td>no</td>\n",
       "    </tr>\n",
       "    <tr>\n",
       "      <th>2</th>\n",
       "      <td>3</td>\n",
       "      <td>nublado</td>\n",
       "      <td>caluroso</td>\n",
       "      <td>alta</td>\n",
       "      <td>leve</td>\n",
       "      <td>si</td>\n",
       "    </tr>\n",
       "    <tr>\n",
       "      <th>3</th>\n",
       "      <td>4</td>\n",
       "      <td>lluvia</td>\n",
       "      <td>templado</td>\n",
       "      <td>alta</td>\n",
       "      <td>leve</td>\n",
       "      <td>si</td>\n",
       "    </tr>\n",
       "    <tr>\n",
       "      <th>4</th>\n",
       "      <td>5</td>\n",
       "      <td>lluvia</td>\n",
       "      <td>frio</td>\n",
       "      <td>normal</td>\n",
       "      <td>leve</td>\n",
       "      <td>si</td>\n",
       "    </tr>\n",
       "    <tr>\n",
       "      <th>5</th>\n",
       "      <td>6</td>\n",
       "      <td>lluvia</td>\n",
       "      <td>frio</td>\n",
       "      <td>normal</td>\n",
       "      <td>fuerte</td>\n",
       "      <td>no</td>\n",
       "    </tr>\n",
       "    <tr>\n",
       "      <th>6</th>\n",
       "      <td>7</td>\n",
       "      <td>nublado</td>\n",
       "      <td>frio</td>\n",
       "      <td>normal</td>\n",
       "      <td>fuerte</td>\n",
       "      <td>si</td>\n",
       "    </tr>\n",
       "    <tr>\n",
       "      <th>7</th>\n",
       "      <td>8</td>\n",
       "      <td>soleado</td>\n",
       "      <td>templado</td>\n",
       "      <td>alta</td>\n",
       "      <td>leve</td>\n",
       "      <td>no</td>\n",
       "    </tr>\n",
       "    <tr>\n",
       "      <th>8</th>\n",
       "      <td>9</td>\n",
       "      <td>soleado</td>\n",
       "      <td>frio</td>\n",
       "      <td>normal</td>\n",
       "      <td>leve</td>\n",
       "      <td>si</td>\n",
       "    </tr>\n",
       "    <tr>\n",
       "      <th>9</th>\n",
       "      <td>10</td>\n",
       "      <td>lluvia</td>\n",
       "      <td>templado</td>\n",
       "      <td>normal</td>\n",
       "      <td>leve</td>\n",
       "      <td>si</td>\n",
       "    </tr>\n",
       "    <tr>\n",
       "      <th>10</th>\n",
       "      <td>11</td>\n",
       "      <td>soleado</td>\n",
       "      <td>templado</td>\n",
       "      <td>normal</td>\n",
       "      <td>fuerte</td>\n",
       "      <td>si</td>\n",
       "    </tr>\n",
       "    <tr>\n",
       "      <th>11</th>\n",
       "      <td>12</td>\n",
       "      <td>nublado</td>\n",
       "      <td>templado</td>\n",
       "      <td>alta</td>\n",
       "      <td>fuerte</td>\n",
       "      <td>si</td>\n",
       "    </tr>\n",
       "    <tr>\n",
       "      <th>12</th>\n",
       "      <td>13</td>\n",
       "      <td>nublado</td>\n",
       "      <td>caluroso</td>\n",
       "      <td>normal</td>\n",
       "      <td>leve</td>\n",
       "      <td>si</td>\n",
       "    </tr>\n",
       "    <tr>\n",
       "      <th>13</th>\n",
       "      <td>14</td>\n",
       "      <td>lluvia</td>\n",
       "      <td>templado</td>\n",
       "      <td>alta</td>\n",
       "      <td>fuerte</td>\n",
       "      <td>no</td>\n",
       "    </tr>\n",
       "  </tbody>\n",
       "</table>\n",
       "</div>"
      ],
      "text/plain": [
       "    dia nubosidad temperatura humedad  viento estrellas_visibles\n",
       "0     1   soleado    caluroso    alta    leve                 no\n",
       "1     2   soleado    caluroso    alta  fuerte                 no\n",
       "2     3   nublado    caluroso    alta    leve                 si\n",
       "3     4    lluvia    templado    alta    leve                 si\n",
       "4     5    lluvia        frio  normal    leve                 si\n",
       "5     6    lluvia        frio  normal  fuerte                 no\n",
       "6     7   nublado        frio  normal  fuerte                 si\n",
       "7     8   soleado    templado    alta    leve                 no\n",
       "8     9   soleado        frio  normal    leve                 si\n",
       "9    10    lluvia    templado  normal    leve                 si\n",
       "10   11   soleado    templado  normal  fuerte                 si\n",
       "11   12   nublado    templado    alta  fuerte                 si\n",
       "12   13   nublado    caluroso  normal    leve                 si\n",
       "13   14    lluvia    templado    alta  fuerte                 no"
      ]
     },
     "execution_count": 4,
     "metadata": {},
     "output_type": "execute_result"
    }
   ],
   "source": [
    "df"
   ]
  },
  {
   "cell_type": "markdown",
   "metadata": {
    "slideshow": {
     "slide_type": "subslide"
    }
   },
   "source": [
    "# Con qué atributo (variable) empezamos ?"
   ]
  },
  {
   "cell_type": "markdown",
   "metadata": {
    "slideshow": {
     "slide_type": "fragment"
    }
   },
   "source": [
    "## Viento ?\n",
    "\n",
    "$$ H(C) = -p(si) \\log_2 p(si) - p(no) \\log_2 p(no) =  -\\frac{9}{14} \\log_2 \\frac{9}{14} - \\frac{5}{14} \\log_2 \\frac{5}{14} = 0.94 $$\n",
    "\n",
    "$$ H(C|Viento) = -p(fuerte, si) \\log_2 p(si|fuerte) - p(fuerte, no) \\log_2 p(no|fuerte) - p(leve, si) \\log_2 p(si|leve) - p(debil, no) log_2 p(no|debil) = $$\n",
    "$$ - \\frac{3}{14} \\log_2 \\frac{3}{6} - \\frac{3}{14} \\log_2 \\frac{3}{6} - \\frac{6}{14} \\log_2 \\frac{6}{8} - \\frac{2}{14} \\log_2 \\frac{2}{8} = 0.892 $$\n",
    "\n",
    "I(C, Viento) = 0.94 - 0.892 = 0.048"
   ]
  },
  {
   "cell_type": "markdown",
   "metadata": {
    "slideshow": {
     "slide_type": "fragment"
    }
   },
   "source": [
    "## De la misma forma,\n",
    "\n",
    "I(C, Humedad) = 0.151\n",
    "\n",
    "** I(C, Nubosidad) = 0.246 **\n",
    "\n",
    "I(C, Temperatura) = 0.029"
   ]
  },
  {
   "cell_type": "markdown",
   "metadata": {
    "slideshow": {
     "slide_type": "subslide"
    }
   },
   "source": [
    "![](files/images/ID3_1.PNG)"
   ]
  },
  {
   "cell_type": "markdown",
   "metadata": {
    "slideshow": {
     "slide_type": "subslide"
    }
   },
   "source": [
    "![](files/images/ID3_2.PNG)"
   ]
  },
  {
   "cell_type": "markdown",
   "metadata": {
    "slideshow": {
     "slide_type": "fragment"
    }
   },
   "source": [
    "Si el valor de **nubosidad** es \"nublado\", todas las instancias son positivas!. \n",
    "\n",
    "Lo transformamos entonces en un nodo hoja, al que le asignamos esa misma etiqueta para clasificar."
   ]
  },
  {
   "cell_type": "markdown",
   "metadata": {
    "collapsed": true,
    "slideshow": {
     "slide_type": "subslide"
    }
   },
   "source": [
    "## Algunas observaciones ..."
   ]
  },
  {
   "cell_type": "markdown",
   "metadata": {
    "collapsed": true,
    "slideshow": {
     "slide_type": "fragment"
    }
   },
   "source": [
    "- El algoritmo no asegura encontrar el óptimo global\n",
    "- La complexidad se incrementa de forma lineal con el número de instancias de entrenamiento y de forma exponencial en relación al número de atributos\n",
    "- Variables con mayor cantidad de valores son favorecidas en la selección"
   ]
  },
  {
   "cell_type": "markdown",
   "metadata": {
    "slideshow": {
     "slide_type": "subslide"
    }
   },
   "source": [
    "# Mejoras posibles ..."
   ]
  },
  {
   "cell_type": "markdown",
   "metadata": {
    "slideshow": {
     "slide_type": "fragment"
    }
   },
   "source": [
    "- ** Establecer una profundidad máxima para el árbol **\n",
    "- Manejo de variables continuas\n",
    "- Permitir valores nulos en los datos de entrada\n",
    "- Definir pesos a las clases o etiquetas (problemas cost-sensitive)\n",
    "- Post-prunning"
   ]
  },
  {
   "cell_type": "markdown",
   "metadata": {
    "slideshow": {
     "slide_type": "subslide"
    }
   },
   "source": [
    "# Algunas desventajas ..."
   ]
  },
  {
   "cell_type": "markdown",
   "metadata": {
    "slideshow": {
     "slide_type": "fragment"
    }
   },
   "source": [
    "- Cuidado: overfitting !\n",
    "- Inestables: pequeños cambios en los datos pueden hacer que el árbol resultante cambie notablemente\n",
    "- Encontrar el árbol óptimo es un problema NP-completo\n",
    "- Hay que tener cuidado si el dataset no está balanceado"
   ]
  },
  {
   "cell_type": "markdown",
   "metadata": {
    "slideshow": {
     "slide_type": "subslide"
    }
   },
   "source": [
    "# Tips y consejos prácticos ..."
   ]
  },
  {
   "cell_type": "markdown",
   "metadata": {
    "slideshow": {
     "slide_type": "fragment"
    }
   },
   "source": [
    "- A mayor cantidad de variables aumentan las probabilidades de sobre-entrenamiento: usar max_depth y analizar las componentes de nuestro conjunto de datos (técnicas de reducción de dimensionalidad).\n",
    "- Analizar los árboles resultantes: dan mucha información de qué es lo que está pasando (FSS) !.\n",
    "- Balancear los datos.\n",
    "- Puedo usarlos para hacer análisis post-mortem en otros problemas.\n",
    "- Uno de los algoritmos más utilizados: Classification And Regression Trees, o CART (permite trabajar con problemas de regresión obteniendo el promedio de las instancias que quedan en cada hoja)"
   ]
  },
  {
   "cell_type": "markdown",
   "metadata": {
    "slideshow": {
     "slide_type": "subslide"
    }
   },
   "source": [
    "![](files/images/Classifiers_comparison.png)"
   ]
  }
 ],
 "metadata": {
  "celltoolbar": "Slideshow",
  "kernelspec": {
   "display_name": "Python 3",
   "language": "python",
   "name": "python3"
  },
  "language_info": {
   "codemirror_mode": {
    "name": "ipython",
    "version": 3
   },
   "file_extension": ".py",
   "mimetype": "text/x-python",
   "name": "python",
   "nbconvert_exporter": "python",
   "pygments_lexer": "ipython3",
   "version": "3.7.3"
  }
 },
 "nbformat": 4,
 "nbformat_minor": 1
}
