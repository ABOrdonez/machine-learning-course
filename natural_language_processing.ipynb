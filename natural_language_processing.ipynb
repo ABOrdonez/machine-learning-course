{
 "cells": [
  {
   "cell_type": "markdown",
   "metadata": {
    "slideshow": {
     "slide_type": "slide"
    }
   },
   "source": [
    "Procesamiento de Lenguaje Natural\n",
    "=================="
   ]
  },
  {
   "cell_type": "markdown",
   "metadata": {
    "slideshow": {
     "slide_type": "subslide"
    }
   },
   "source": [
    "Qué es?\n",
    "======="
   ]
  },
  {
   "cell_type": "markdown",
   "metadata": {
    "slideshow": {
     "slide_type": "fragment"
    }
   },
   "source": [
    "\"Lengua o idioma hablado o escrito por humanos para propósitos generales de comunicación\" [Wikipedia, 2018]"
   ]
  },
  {
   "cell_type": "markdown",
   "metadata": {
    "slideshow": {
     "slide_type": "fragment"
    }
   },
   "source": [
    "\"Natural-language processing (NLP) is an area of computer science and artificial intelligence concerned with the interactions between computers and human (natural) languages\" [Wikipedia, 2018]"
   ]
  },
  {
   "cell_type": "markdown",
   "metadata": {
    "slideshow": {
     "slide_type": "fragment"
    }
   },
   "source": [
    "computadora -> lenguaje natural\n",
    "\n",
    "lenguaje natural -> computadora"
   ]
  },
  {
   "cell_type": "markdown",
   "metadata": {
    "slideshow": {
     "slide_type": "subslide"
    }
   },
   "source": [
    "# Por qué?"
   ]
  },
  {
   "cell_type": "markdown",
   "metadata": {
    "slideshow": {
     "slide_type": "fragment"
    }
   },
   "source": [
    "Existe información relevante y nos interesa poder acceder a ella!"
   ]
  },
  {
   "cell_type": "markdown",
   "metadata": {
    "slideshow": {
     "slide_type": "subslide"
    }
   },
   "source": [
    "# Fuentes estructuradas vs. fuentes desestructuradas"
   ]
  },
  {
   "cell_type": "markdown",
   "metadata": {
    "slideshow": {
     "slide_type": "fragment"
    }
   },
   "source": [
    "- Estructuradas: los datos están almacenados con una estructura, que puede ser simple o compleja, pero nos permite entenderlo de alguna manera. Son los que generalmente utilizamos: archivos de texto delimitados, bases de datos, ... cualquiera cosa que pueda transformar rápidamente a filas y columnas.\n",
    "\n",
    "- Desestructuradas: no existe una estructura que nos permita entender los datos y por ende obtener información de ellos. Las principales son video, audio y texto."
   ]
  },
  {
   "cell_type": "markdown",
   "metadata": {
    "slideshow": {
     "slide_type": "subslide"
    }
   },
   "source": [
    "# Algo de historia"
   ]
  },
  {
   "cell_type": "markdown",
   "metadata": {
    "slideshow": {
     "slide_type": "fragment"
    }
   },
   "source": [
    "- 1950: Alan Turing publica \"Computng Machinery and Intelligence\". Test de Turing."
   ]
  },
  {
   "cell_type": "markdown",
   "metadata": {
    "slideshow": {
     "slide_type": "fragment"
    }
   },
   "source": [
    "- 1954: Experimento Georgetown - IBM."
   ]
  },
  {
   "cell_type": "markdown",
   "metadata": {
    "slideshow": {
     "slide_type": "fragment"
    }
   },
   "source": [
    "- 1966: Nace ELIZA"
   ]
  },
  {
   "cell_type": "markdown",
   "metadata": {
    "slideshow": {
     "slide_type": "fragment"
    }
   },
   "source": [
    "- 1970s: Surgen las primeras ontologías y \"chatterbots\"."
   ]
  },
  {
   "cell_type": "markdown",
   "metadata": {
    "slideshow": {
     "slide_type": "fragment"
    }
   },
   "source": [
    "- 1980s: Se empiezan aplicar técnicas estadísticas a la resolución de problemas de NLP."
   ]
  },
  {
   "cell_type": "markdown",
   "metadata": {
    "slideshow": {
     "slide_type": "fragment"
    }
   },
   "source": [
    "- 2011: Watson gana el concurso de televisión Jeopardy!\n",
    "- 2011: Desafío de los esquemas de Winograd. Ejemplo:\n",
    "\n",
    "<i>\"The trophy would not fit in the brown suitcase because it was too big\".\n",
    "\n",
    "What was too big?\n",
    "\n",
    "<br />\n",
    "Repuesta 0: the trophy\n",
    "\n",
    "Respuesta 1: the suitcase</i>"
   ]
  },
  {
   "cell_type": "markdown",
   "metadata": {
    "slideshow": {
     "slide_type": "fragment"
    }
   },
   "source": [
    "- Actualidad: ?"
   ]
  },
  {
   "cell_type": "markdown",
   "metadata": {
    "slideshow": {
     "slide_type": "subslide"
    }
   },
   "source": [
    "# Algunos problemas de los que se ocupa el PLN"
   ]
  },
  {
   "cell_type": "markdown",
   "metadata": {
    "slideshow": {
     "slide_type": "fragment"
    }
   },
   "source": [
    "<img src=\"files/images/NLP_scope.PNG\" width=\"200px\" />"
   ]
  },
  {
   "cell_type": "markdown",
   "metadata": {
    "slideshow": {
     "slide_type": "subslide"
    }
   },
   "source": [
    "- Topic classification\n",
    "\n",
    "<i>\"El PLP tuvo una buena tarde y se perfila como gran candidato.\"</i>\n",
    "\n",
    "Deportes ? Economía ? Política ?"
   ]
  },
  {
   "cell_type": "markdown",
   "metadata": {
    "slideshow": {
     "slide_type": "subslide"
    }
   },
   "source": [
    "- Recuperación de información\n",
    "\n",
    "<i>\"La Argentina está organizada como un <strong>Estado federal descentralizado</strong>, integrado desde <strong>1994</strong> por un <strong>Estado nacional</strong> y <strong>24 estados autogobernados</strong>, que a su vez son <strong>24 distritos electorales legislativos nacionales</strong>.\" </i>"
   ]
  },
  {
   "cell_type": "markdown",
   "metadata": {
    "slideshow": {
     "slide_type": "subslide"
    }
   },
   "source": [
    "- Question answering (chatbots)\n",
    "\n",
    "\"Hola. Soy afiliado de la prepaga y necesito autorizar un pedido de tomografía 3D por intermedio del sistema de autogestión. No consigo encontrar la práctica, ¿me podríar decir si es necesario autorizarla realmente?\""
   ]
  },
  {
   "cell_type": "markdown",
   "metadata": {
    "slideshow": {
     "slide_type": "fragment"
    }
   },
   "source": [
    "<img src=\"files/images/Facebook_comment.png\" width=\"600px\" />"
   ]
  },
  {
   "cell_type": "markdown",
   "metadata": {
    "slideshow": {
     "slide_type": "subslide"
    }
   },
   "source": [
    "- Análisis de opiniones / sentimientos\n",
    "\n",
    "<i>\"El mejor servicio que usé en mi vida, nada de demora y me resolvieron todas las dudas que tenía. GENIOS!!!\"</i> \n",
    "\n",
    "[algo que un usuario dijo nunca en ningún lugar]"
   ]
  },
  {
   "cell_type": "markdown",
   "metadata": {
    "slideshow": {
     "slide_type": "subslide"
    }
   },
   "source": [
    "- Text summarization\n",
    "\n",
    "<img src=\"files/images/NLP_text_sum.png\" width=\"400px\" />"
   ]
  },
  {
   "cell_type": "markdown",
   "metadata": {
    "slideshow": {
     "slide_type": "subslide"
    }
   },
   "source": [
    "- Word-sense desambiguation\n",
    "\n",
    "Uno de los problemas abiertos dentro de NLP!\n",
    "\n",
    "<i>\"Puso dos velas a San Pancracio.\"</i>\n",
    "\n",
    "Cilindro de cera o pieza de lona?"
   ]
  },
  {
   "cell_type": "markdown",
   "metadata": {
    "slideshow": {
     "slide_type": "subslide"
    }
   },
   "source": [
    "- Reconocimiento de Entidades Nombradas (NER)\n",
    "\n",
    "\"<strong>PP</strong> en crisis en <strong>España</strong>: la oposición acorrala a <strong>Mariano Rajoy</strong> con un voto de censura\"."
   ]
  },
  {
   "cell_type": "markdown",
   "metadata": {
    "slideshow": {
     "slide_type": "subslide"
    }
   },
   "source": [
    "- Machine translation (interlinguas)\n",
    "\n",
    "<i>\"The United Nations came into being in 1945, following the devastation of the Second World War, with one central mission: the maintenance of international peace and security.\"</i>\n",
    "\n",
    "<i>\"Tras la devastación de la Segunda Guerra Mundial, las Naciones Unidas empezaron su labor en 1945, con una prioridad: mantener la paz y la seguridad internacionales.\"</i>"
   ]
  },
  {
   "cell_type": "markdown",
   "metadata": {
    "slideshow": {
     "slide_type": "fragment"
    }
   },
   "source": [
    "#### ¿Cómo podríamos intentar resolver el problema de forma radical?. ¿Es viable seleccionar una lengua o idioma existente?\n",
    "\n",
    "Posible solución: interlingua. \n",
    "\n",
    "\"El interlingua es una lengua artificial internacional basada en vocablos comunes a la mayoría de los idiomas de Europa occidental y en una gramática anglorrománica simplificada.\""
   ]
  },
  {
   "cell_type": "markdown",
   "metadata": {
    "slideshow": {
     "slide_type": "subslide"
    }
   },
   "source": [
    "- Natural Language Generation (NLG)\n",
    "\n",
    "<img src=\"files/images/CV_intro_11.PNG\" width=\"500px\" />\n",
    "\n",
    "\"La imagen muestra una persona desayunando en un lugar cerrado, posiblemente su casa, mientras lee un diario.\""
   ]
  },
  {
   "cell_type": "markdown",
   "metadata": {
    "slideshow": {
     "slide_type": "subslide"
    }
   },
   "source": [
    "- Natural Language Understanding (NLU)\n",
    "\n",
    "Es otro de los problemas abiertos dentro de NLP!\n",
    "\n",
    "<img src=\"files/images/NLU.PNG\" width=\"500px\" />"
   ]
  },
  {
   "cell_type": "markdown",
   "metadata": {
    "slideshow": {
     "slide_type": "subslide"
    }
   },
   "source": [
    "<img src=\"files/images/NLU_tweet.PNG\" width=\"500px\" />"
   ]
  },
  {
   "cell_type": "markdown",
   "metadata": {
    "slideshow": {
     "slide_type": "subslide"
    }
   },
   "source": [
    "- Speech recognition (o \"voz a texto\")"
   ]
  },
  {
   "cell_type": "markdown",
   "metadata": {
    "slideshow": {
     "slide_type": "subslide"
    }
   },
   "source": [
    "- Text-to-speech\n",
    "\n",
    "\"OK Google\"\n",
    "\n",
    "\"Oye Siri\""
   ]
  },
  {
   "cell_type": "markdown",
   "metadata": {
    "slideshow": {
     "slide_type": "slide"
    }
   },
   "source": [
    "# Técnicas de preprocesado para datos no estructurados (lenguaje natural)"
   ]
  },
  {
   "cell_type": "markdown",
   "metadata": {
    "slideshow": {
     "slide_type": "fragment"
    }
   },
   "source": [
    "### Tokenización"
   ]
  },
  {
   "cell_type": "code",
   "execution_count": 87,
   "metadata": {
    "slideshow": {
     "slide_type": "fragment"
    }
   },
   "outputs": [
    {
     "data": {
      "text/plain": [
       "['Hola', 'mundo', '!', '.', 'Hello', 'world', '!', '.']"
      ]
     },
     "execution_count": 87,
     "metadata": {},
     "output_type": "execute_result"
    }
   ],
   "source": [
    "from nltk import word_tokenize\n",
    "\n",
    "o = \"Hola mundo!. Hello world!.\"\n",
    "\n",
    "tokens = word_tokenize(o)\n",
    "tokens"
   ]
  },
  {
   "cell_type": "markdown",
   "metadata": {
    "slideshow": {
     "slide_type": "subslide"
    }
   },
   "source": [
    "### Stemming\n",
    "\n",
    "Es una normalización para lenguaje natural!\n",
    "\n",
    "biblioteca = bibliotecario = bibliotecaria ?"
   ]
  },
  {
   "cell_type": "code",
   "execution_count": 88,
   "metadata": {
    "slideshow": {
     "slide_type": "fragment"
    }
   },
   "outputs": [
    {
     "name": "stdout",
     "output_type": "stream",
     "text": [
      "['argu', 'argu', 'argu', 'argu']\n",
      "['bibliotec', 'bibliotecari', 'bibliotecari']\n"
     ]
    }
   ],
   "source": [
    "from nltk.stem.porter import PorterStemmer\n",
    "from nltk.stem.snowball import SnowballStemmer\n",
    "\n",
    "stemmer = PorterStemmer()\n",
    "\n",
    "palabras = [\"argue\", \"argued\", \"argues\", \"arguing\"]\n",
    "\n",
    "print([stemmer.stem(p) for p in palabras])\n",
    "\n",
    "stemmer = SnowballStemmer(\"spanish\")\n",
    "\n",
    "palabras = [\"biblioteca\", \"bibliotecario\", \"bibliotecarias\"]\n",
    "\n",
    "print([stemmer.stem(p) for p in palabras])"
   ]
  },
  {
   "cell_type": "markdown",
   "metadata": {
    "slideshow": {
     "slide_type": "subslide"
    }
   },
   "source": [
    "# Part-of-Speech tagging (POS)\n",
    "\n",
    "<img src=\"files/images/NLP_POS_tagging.png\" width=\"500px\" />"
   ]
  },
  {
   "cell_type": "code",
   "execution_count": 89,
   "metadata": {
    "slideshow": {
     "slide_type": "subslide"
    }
   },
   "outputs": [
    {
     "name": "stdout",
     "output_type": "stream",
     "text": [
      "[('This', 'DT'), ('is', 'VBZ'), ('an', 'DT'), ('introductory', 'JJ'), ('class', 'NN'), ('to', 'TO'), ('NLP', 'NNP'), ('.', '.')]\n"
     ]
    }
   ],
   "source": [
    "from nltk import pos_tag\n",
    "\n",
    "text = nltk.word_tokenize(\"This is an introductory class to NLP.\")\n",
    "\n",
    "print(nltk.pos_tag(text))"
   ]
  },
  {
   "cell_type": "markdown",
   "metadata": {
    "slideshow": {
     "slide_type": "subslide"
    }
   },
   "source": [
    "### Lemmatization\n",
    "\n",
    "Es otra técnica de normalización, similar a stemming pero intentando hacer un análisis más completo.\n",
    "\n",
    "Permite introducir el resultado de un etiquetado POS para realizar la operación."
   ]
  },
  {
   "cell_type": "markdown",
   "metadata": {
    "slideshow": {
     "slide_type": "subslide"
    }
   },
   "source": [
    "### Eliminación de stop-words\n",
    "\n",
    "Son unidades que se pueden encontrar en la entrada pero no aportan información: artículos, pronombres, preposiciones, etc.\n",
    "\n",
    "Generalmente deben ser eliminadas."
   ]
  },
  {
   "cell_type": "code",
   "execution_count": 90,
   "metadata": {
    "slideshow": {
     "slide_type": "fragment"
    }
   },
   "outputs": [
    {
     "data": {
      "text/plain": [
       "['This', 'introductory', 'class', 'NLP', '.']"
      ]
     },
     "execution_count": 90,
     "metadata": {},
     "output_type": "execute_result"
    }
   ],
   "source": [
    "from nltk.corpus import stopwords\n",
    "\n",
    "o = \"This is an introductory class to NLP.\"\n",
    "\n",
    "tokens = word_tokenize(o)\n",
    "\n",
    "[word for word in tokens if word not in stopwords.words('english')]"
   ]
  },
  {
   "cell_type": "markdown",
   "metadata": {
    "slideshow": {
     "slide_type": "slide"
    }
   },
   "source": [
    "# Feature engineering en NLP"
   ]
  },
  {
   "cell_type": "markdown",
   "metadata": {
    "slideshow": {
     "slide_type": "subslide"
    }
   },
   "source": [
    "### Bag of words\n",
    "\n",
    "\"John likes to watch movies. Mary likes movies too.\"\n",
    "\n",
    "<table>\n",
    "    <tr>\n",
    "        <td>John</td>\n",
    "        <td>likes</td>\n",
    "        <td>watch</td>\n",
    "        <td>movies</td>\n",
    "        <td>Mary</td>\n",
    "    </tr>\n",
    "    <tr>\n",
    "        <td>1</td>\n",
    "        <td>2</td>\n",
    "        <td>1</td>\n",
    "        <td>2</td>\n",
    "        <td>1</td>\n",
    "    </tr>\n",
    "</table>"
   ]
  },
  {
   "cell_type": "code",
   "execution_count": 91,
   "metadata": {
    "scrolled": true,
    "slideshow": {
     "slide_type": "fragment"
    }
   },
   "outputs": [
    {
     "data": {
      "text/html": [
       "<div>\n",
       "<style scoped>\n",
       "    .dataframe tbody tr th:only-of-type {\n",
       "        vertical-align: middle;\n",
       "    }\n",
       "\n",
       "    .dataframe tbody tr th {\n",
       "        vertical-align: top;\n",
       "    }\n",
       "\n",
       "    .dataframe thead th {\n",
       "        text-align: right;\n",
       "    }\n",
       "</style>\n",
       "<table border=\"1\" class=\"dataframe\">\n",
       "  <thead>\n",
       "    <tr style=\"text-align: right;\">\n",
       "      <th></th>\n",
       "      <th>john</th>\n",
       "      <th>likes</th>\n",
       "      <th>mary</th>\n",
       "      <th>movies</th>\n",
       "      <th>watch</th>\n",
       "    </tr>\n",
       "  </thead>\n",
       "  <tbody>\n",
       "    <tr>\n",
       "      <th>0</th>\n",
       "      <td>1</td>\n",
       "      <td>2</td>\n",
       "      <td>1</td>\n",
       "      <td>2</td>\n",
       "      <td>1</td>\n",
       "    </tr>\n",
       "  </tbody>\n",
       "</table>\n",
       "</div>"
      ],
      "text/plain": [
       "   john  likes  mary  movies  watch\n",
       "0     1      2     1       2      1"
      ]
     },
     "execution_count": 91,
     "metadata": {},
     "output_type": "execute_result"
    }
   ],
   "source": [
    "from sklearn.feature_extraction.text import CountVectorizer\n",
    "import pandas as pd\n",
    "\n",
    "s = \"John likes to watch movies. Mary likes movies too.\"\n",
    "\n",
    "tf_vectorizer = CountVectorizer(stop_words='english')\n",
    "X = tf_vectorizer.fit_transform([s])\n",
    "\n",
    "df = pd.DataFrame(X.toarray(), columns=tf_vectorizer.get_feature_names())\n",
    "df"
   ]
  },
  {
   "cell_type": "markdown",
   "metadata": {
    "slideshow": {
     "slide_type": "subslide"
    }
   },
   "source": [
    "### Term Frequency–Inverse Document Frequency (tf-idf)"
   ]
  },
  {
   "cell_type": "markdown",
   "metadata": {
    "slideshow": {
     "slide_type": "fragment"
    }
   },
   "source": [
    "- Intenta reflejar estadísticamente la importancia de cada término incluido dentro de una serie de documentos.\n",
    "\n",
    "- Instintivamente, si nos interesara clasificar noticias en categorías: \n",
    "\n",
    "I(\"el\") <<< I(\"pelota\") \n",
    "\n",
    "I(\"pelota\") <<< I(\"Messi\")\n"
   ]
  },
  {
   "cell_type": "markdown",
   "metadata": {
    "slideshow": {
     "slide_type": "fragment"
    }
   },
   "source": [
    "- Term-Frequency: número de veces que un término aparece en un documento. Existen algunas variantes: tf, bool, tf log, etc.\n",
    "- Inverse Document Frequency: Indica cuánta información aporta el término expresando qué tan frecuente es en todos los documentos.\n"
   ]
  },
  {
   "cell_type": "code",
   "execution_count": 92,
   "metadata": {
    "slideshow": {
     "slide_type": "subslide"
    }
   },
   "outputs": [
    {
     "name": "stdout",
     "output_type": "stream",
     "text": [
      "['la', 'selección', 'argentina', 'ya', 'prepara']\n"
     ]
    },
    {
     "data": {
      "text/plain": [
       "array([[0.        , 0.17615489, 0.        , 0.17615489, 0.10403992],\n",
       "       [0.13859057, 0.        , 0.13859057, 0.        , 0.08185382],\n",
       "       [0.        , 0.        , 0.        , 0.        , 0.07201206]])"
      ]
     },
     "execution_count": 92,
     "metadata": {},
     "output_type": "execute_result"
    }
   ],
   "source": [
    "s1 = \"\"\"La selección argentina ya prepara la despedida rumbo al Mundial Rusia 2018 . \n",
    "Con Lionel Messi a la cabeza, en la Bombonera, el equipo de Jorge Sampaoli se enfrentará\n",
    "a Haití el próximo martes 29 de mayo.\"\"\"\n",
    "\n",
    "s2 = \"\"\"Nicolás Kicker, el tenista argentino declarado \"culpable\" de arreglo de dos partidos\n",
    "en Challengers en Italia y Colombia en 2015 por la unidad de Integridad del Tenis \n",
    "(TIU, según sus siglas en inglés), nació en Merlo hace 25 años y siempre representó al \n",
    "costado más austero del tenis profesional.\"\"\"\n",
    "\n",
    "s3 = \"\"\"Ganar en la gira de mitad de temporada, hecho. Ganarle a un equipo neozelandés, hecho.\n",
    "Ganar cuatro partidos seguidos, hecho. El próximo ítem por tachar en la lista de cosas pendientes \n",
    "de Jaguares es ganarle a Sharks, que ha configurado una suerte de paternidad sobre los argentinos\n",
    "al imponerse en los cuatro enfrentamientos entre sí.\"\"\"\n",
    "\n",
    "from sklearn.feature_extraction.text import TfidfVectorizer\n",
    "ffidf_vectorizer = TfidfVectorizer(use_idf=True).fit([s1, s2, s3])\n",
    "X_train_tf = ffidf_vectorizer.fit_transform([s1, s2, s3])\n",
    "print(list(ffidf_vectorizer.vocabulary_)[:5])\n",
    "X_train_tf[:5,:5].toarray()"
   ]
  },
  {
   "cell_type": "markdown",
   "metadata": {
    "slideshow": {
     "slide_type": "subslide"
    }
   },
   "source": [
    "### Word embedding"
   ]
  },
  {
   "cell_type": "markdown",
   "metadata": {
    "slideshow": {
     "slide_type": "fragment"
    }
   },
   "source": [
    "\"Mi hermano pintó la casa ______\""
   ]
  },
  {
   "cell_type": "markdown",
   "metadata": {
    "slideshow": {
     "slide_type": "fragment"
    }
   },
   "source": [
    "El ministro hizo una broma antes de comenzar la ceremonia.\n",
    "\n",
    "Esa broma me dio risa.\n",
    "\n",
    "No me hizo reir la broma del ministro."
   ]
  },
  {
   "cell_type": "markdown",
   "metadata": {
    "slideshow": {
     "slide_type": "subslide"
    }
   },
   "source": [
    "Idealmente:\n",
    "\n",
    "    algoritmo → [4,56,2,15,21,...,9]\n",
    "    \n",
    "    programa → [21,41,5,64,2,...,42]\n",
    "    \n",
    "    piano → [67,0,94,42,11,...,72]"
   ]
  },
  {
   "cell_type": "markdown",
   "metadata": {
    "slideshow": {
     "slide_type": "fragment"
    }
   },
   "source": [
    "<img src=\"files/images/word_embedding.png\" width=\"300px\" />"
   ]
  },
  {
   "cell_type": "markdown",
   "metadata": {
    "slideshow": {
     "slide_type": "subslide"
    }
   },
   "source": [
    "<img src=\"files/images/word2vect.PNG\" width=\"700px\" />"
   ]
  },
  {
   "cell_type": "markdown",
   "metadata": {
    "slideshow": {
     "slide_type": "slide"
    }
   },
   "source": [
    "# Problemas resolubles utilizando Machine Learning"
   ]
  },
  {
   "cell_type": "markdown",
   "metadata": {
    "slideshow": {
     "slide_type": "fragment"
    }
   },
   "source": [
    "- Topic classification\n",
    "- Recuperación de información ☓\n",
    "- Question answering (chatbots)\n",
    "- Relationship extraction ☓\n",
    "- Sentiment analysis\n",
    "- Text summarization ☓\n",
    "- Word-sense desambiguation\n",
    "- NER ☓\n",
    "- Machine translation (interlingua)\n",
    "- NLG\n",
    "- NLU ☓\n",
    "- Speech recognition\n",
    "- Text-to-speech ☓"
   ]
  }
 ],
 "metadata": {
  "celltoolbar": "Slideshow",
  "kernelspec": {
   "display_name": "Python 3",
   "language": "python",
   "name": "python3"
  },
  "language_info": {
   "codemirror_mode": {
    "name": "ipython",
    "version": 3
   },
   "file_extension": ".py",
   "mimetype": "text/x-python",
   "name": "python",
   "nbconvert_exporter": "python",
   "pygments_lexer": "ipython3",
   "version": "3.6.3"
  }
 },
 "nbformat": 4,
 "nbformat_minor": 1
}
