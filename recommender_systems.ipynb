{
 "cells": [
  {
   "cell_type": "markdown",
   "metadata": {
    "slideshow": {
     "slide_type": "slide"
    }
   },
   "source": [
    "Recommender system\n",
    "================"
   ]
  },
  {
   "cell_type": "markdown",
   "metadata": {
    "slideshow": {
     "slide_type": "subslide"
    }
   },
   "source": [
    "Qué es?\n",
    "======="
   ]
  },
  {
   "cell_type": "markdown",
   "metadata": {
    "slideshow": {
     "slide_type": "fragment"
    }
   },
   "source": [
    "- Sistema capaz de seleccionar el *i* más apropiado dentro de un conjunto *S* de elementos posibles\n",
    "- Una de las aplicaciones más importantes de machine learning\n",
    "- Muy populares en los últimos años\n",
    "- I(academia) <<< I(industria)"
   ]
  },
  {
   "cell_type": "markdown",
   "metadata": {
    "slideshow": {
     "slide_type": "subslide"
    }
   },
   "source": [
    "<img src=\"https://cdn-images-1.medium.com/max/450/1*Zvwzw_KPRv5bcXPkb6WubA.jpeg\" >"
   ]
  },
  {
   "cell_type": "markdown",
   "metadata": {
    "slideshow": {
     "slide_type": "subslide"
    }
   },
   "source": [
    "### Aplicaciones reales"
   ]
  },
  {
   "cell_type": "markdown",
   "metadata": {
    "slideshow": {
     "slide_type": "fragment"
    }
   },
   "source": [
    "- Amazon\n",
    "- Netflix\n",
    "- Spotify\n",
    "- Facebook\n",
    "- Youtube\n",
    "- Google\n",
    "- Banca/seguros\n",
    "- ..."
   ]
  },
  {
   "cell_type": "markdown",
   "metadata": {
    "slideshow": {
     "slide_type": "subslide"
    }
   },
   "source": [
    "| Película        | Pedro | Emilia | Martín  | Paola |\n",
    "| ----------------|:-----:| ------:|--------:|-------|\n",
    "| Plaga zombie    |       |        |         |       |\n",
    "| Freddy vs Jason |       |        |         |       |\n",
    "| Saw 1           |       |        |         |       |\n",
    "| Sintonía de amor|       |        |         |       |\n",
    "| Titanic         |       |        |         |       .|\n"
   ]
  },
  {
   "cell_type": "markdown",
   "metadata": {
    "slideshow": {
     "slide_type": "fragment"
    }
   },
   "source": [
    "$n_u$ = cantidad de usuarios/personas\n",
    "\n",
    "$n_m$ = cantidad de películas\n",
    "\n",
    "$r(i,j)$ = 1 si el usuario *i* dejó su opinión sobre la película *j*\n",
    "\n",
    "$y(i,j)$ = rating del usuario *i* sobre la película *j*"
   ]
  },
  {
   "cell_type": "markdown",
   "metadata": {
    "slideshow": {
     "slide_type": "subslide"
    }
   },
   "source": [
    "### Feedback: explícito o implícito?"
   ]
  },
  {
   "cell_type": "markdown",
   "metadata": {
    "slideshow": {
     "slide_type": "fragment"
    }
   },
   "source": [
    "- Muchas veces tenemos el feedback directamente: stars, +1, \"me gusta\", ...\n",
    "- Pero ese datos muchas veces no está presente."
   ]
  },
  {
   "cell_type": "markdown",
   "metadata": {
    "slideshow": {
     "slide_type": "fragment"
    }
   },
   "source": [
    "Generalmente se dispone de algún tipo de feedback, explícito o implícito: si el usuario vio un video completo o no, cantidad de veces que puso pausa o que volvió hacia atrás, número de veces que vio o accedió a un video, etc."
   ]
  },
  {
   "cell_type": "markdown",
   "metadata": {
    "slideshow": {
     "slide_type": "subslide"
    }
   },
   "source": [
    "## Recomendaciones basadas en contenido"
   ]
  },
  {
   "cell_type": "markdown",
   "metadata": {
    "slideshow": {
     "slide_type": "fragment"
    }
   },
   "source": [
    "Se basa en la idea de que dos elementos parecidos entre sí deberían recibir opiniones similares."
   ]
  },
  {
   "cell_type": "markdown",
   "metadata": {
    "slideshow": {
     "slide_type": "fragment"
    }
   },
   "source": [
    "| Película        | Pedro | Emilia | Martín  | Paola | X1 (terror) |  X2 (romántica) |\n",
    "| ----------------|:-----:| ------:|--------:|-------|-------------|-----------------|\n",
    "| Plaga zombie    |   5   |    5   |    0    |   0   |     0.9     |       0         |\n",
    "| Freddy vs Jason |   5   |    ?   |    ?    |   0   |     1.0     |       0.01      |            \n",
    "| Saw 1           |   ?   |    4   |    0    |   ?   |     0.99    |       0         |\n",
    "| Sintonía de amor|   0   |    0   |    5    |   4   |     0.1     |       1.0       |\n",
    "| Titanic         |   0   |    0   |    5    |   ?   |     0       |       0.9       |"
   ]
  },
  {
   "cell_type": "markdown",
   "metadata": {
    "slideshow": {
     "slide_type": "fragment"
    }
   },
   "source": [
    "Por cada usuario voy a intentar aprender los parámetros de la recta que intentan replicar mejor los valores que tengo. Ejemplo:\n",
    "\n",
    "$f_{pedro}(X) = X_1 * 5 + X_2 * 0 + 1$"
   ]
  },
  {
   "cell_type": "markdown",
   "metadata": {
    "slideshow": {
     "slide_type": "fragment"
    }
   },
   "source": [
    "** ¿Cómo encontramos Θ? ** Empezamos a probar al azar ?"
   ]
  },
  {
   "cell_type": "markdown",
   "metadata": {
    "slideshow": {
     "slide_type": "fragment"
    }
   },
   "source": [
    "Función de error: \n",
    "\n",
    "$f_{pedro}(X) - y^{(i,j)} $"
   ]
  },
  {
   "cell_type": "markdown",
   "metadata": {
    "slideshow": {
     "slide_type": "subslide"
    }
   },
   "source": [
    "![](files/images/error_function.svg)"
   ]
  },
  {
   "cell_type": "markdown",
   "metadata": {
    "slideshow": {
     "slide_type": "subslide"
    }
   },
   "source": [
    "Una vez definida la función de error, cómo la usaríamos para que el modelo \"aprenda\" por sí solo?"
   ]
  },
  {
   "cell_type": "markdown",
   "metadata": {
    "slideshow": {
     "slide_type": "fragment"
    }
   },
   "source": [
    "## Descenso por el gradiente\n",
    "\n",
    "![](files/images/gradient_descent.svg)"
   ]
  },
  {
   "cell_type": "markdown",
   "metadata": {
    "slideshow": {
     "slide_type": "subslide"
    }
   },
   "source": [
    "### Cuántas veces ? 1 o 5 ?"
   ]
  },
  {
   "cell_type": "markdown",
   "metadata": {
    "slideshow": {
     "slide_type": "fragment"
    }
   },
   "source": [
    "Podemos redefinir la función de error e integrar las salidas para todos los usuarios:"
   ]
  },
  {
   "cell_type": "markdown",
   "metadata": {
    "slideshow": {
     "slide_type": "fragment"
    }
   },
   "source": [
    "$E_{pedro} = \\sum_{i:r(i,j)=1} ((\\theta^{(j)})^T x^{(i)} - y^{(i,j)})^2$"
   ]
  },
  {
   "cell_type": "markdown",
   "metadata": {
    "slideshow": {
     "slide_type": "fragment"
    }
   },
   "source": [
    "$E_{total} = \\sum_{j=1}^{n_u} \\sum_{i:r(i,j)=1} ((\\theta^{(j)})^T x^{(i)} - y^{(i,j)})^2$"
   ]
  },
  {
   "cell_type": "markdown",
   "metadata": {
    "slideshow": {
     "slide_type": "subslide"
    }
   },
   "source": [
    "## Recomendaciones basadas en filtros colaborativos"
   ]
  },
  {
   "cell_type": "markdown",
   "metadata": {
    "slideshow": {
     "slide_type": "fragment"
    }
   },
   "source": [
    "Se basa en la idea de que dos personas que tuvieron opiniones parecidas en el pasado también las tendrán en el futuro."
   ]
  },
  {
   "cell_type": "markdown",
   "metadata": {
    "slideshow": {
     "slide_type": "fragment"
    }
   },
   "source": [
    "| Película        | Pedro | Emilia | Martín  | Paola | X1 (terror) |  X2 (romántica) |\n",
    "| ----------------|:-----:| ------:|--------:|-------|-------------|-----------------|\n",
    "| Plaga zombie    |   5   |    5   |    0    |   0   |     ?       |       ?         |\n",
    "| Freddy vs Jason |   5   |    ?   |    ?    |   0   |     ?       |       ?         |            \n",
    "| Saw 1           |   ?   |    4   |    0    |   ?   |     ?       |       ?         |\n",
    "| Sintonía de amor|   0   |    0   |    5    |   4   |     ?       |       ?         |\n",
    "| Titanic         |   0   |    0   |    5    |   ?   |     ?       |       ?         |"
   ]
  },
  {
   "cell_type": "markdown",
   "metadata": {
    "slideshow": {
     "slide_type": "fragment"
    }
   },
   "source": [
    "Pedro: \"me gustan mucho las pelícuas de terror y poco las románticas\".\n",
    "Dicho de otra forma, Pedro nos estaría dando su $\\theta$: $\\theta=[0,5,0]$."
   ]
  },
  {
   "cell_type": "markdown",
   "metadata": {
    "slideshow": {
     "slide_type": "subslide"
    }
   },
   "source": [
    "Si tenemos todos los vectores de parámetros ..."
   ]
  },
  {
   "cell_type": "markdown",
   "metadata": {
    "slideshow": {
     "slide_type": "fragment"
    }
   },
   "source": [
    "$\\theta_1$ = [0,5,0]\n",
    "\n",
    "$\\theta_2$ = [0,5,0]\n",
    "\n",
    "$\\theta_3$ = [0,0,5]\n",
    "\n",
    "$\\theta_4$ = [0,0,5]"
   ]
  },
  {
   "cell_type": "markdown",
   "metadata": {
    "slideshow": {
     "slide_type": "fragment"
    }
   },
   "source": [
    "$E_{total} = \\sum_{j=1}^{n_u} \\sum_{i:r(i,j)=1} ((\\theta^{(j)})^T x^{(i)} - y^{(i,j)})^2$"
   ]
  },
  {
   "cell_type": "markdown",
   "metadata": {
    "slideshow": {
     "slide_type": "subslide"
    }
   },
   "source": [
    "### Si los usuarios no nos hubiesen especificado sus preferencias de forma explícita, ¿podríamos calcularlas de alguna forma?"
   ]
  },
  {
   "cell_type": "markdown",
   "metadata": {
    "slideshow": {
     "slide_type": "fragment"
    }
   },
   "source": [
    "$\\theta_1$ = [0, mean([$y(1,j=='terror')$]), mean([$y(1,j=='romántica')$])]"
   ]
  },
  {
   "cell_type": "markdown",
   "metadata": {
    "slideshow": {
     "slide_type": "subslide"
    }
   },
   "source": [
    "## Problemas comúnes"
   ]
  },
  {
   "cell_type": "markdown",
   "metadata": {
    "slideshow": {
     "slide_type": "fragment"
    }
   },
   "source": [
    "- Cold start: Utilizarlos requiere tener data histórica disponible!\n",
    "- Escalabilidad: En muchos casos podemos tener cientos de miles o millones de cosas para recomendar, lo cual hace que obtener recomendaciones de forma automática y al instante sea todo un desafío.\n",
    "- Datos \"sparse\": Generalmente tenemos data de una número mucho menor al total disponible de elementos."
   ]
  },
  {
   "cell_type": "markdown",
   "metadata": {
    "slideshow": {
     "slide_type": "subslide"
    }
   },
   "source": [
    "## Actualidad: enfoque híbridos"
   ]
  },
  {
   "cell_type": "markdown",
   "metadata": {
    "slideshow": {
     "slide_type": "fragment"
    }
   },
   "source": [
    "Existe evidencia científica de que combinar ambos modelos puede ser una buena alternativa para obtener resultados mejores que si se utilizaran de forma aislada."
   ]
  },
  {
   "cell_type": "markdown",
   "metadata": {
    "slideshow": {
     "slide_type": "fragment"
    }
   },
   "source": [
    "Existen distintas principalmente dos formas de combinarlos:\n",
    "- Combinando las salidas de ambos.\n",
    "- Creando un único modelo que combine ambos enfoques."
   ]
  },
  {
   "cell_type": "markdown",
   "metadata": {
    "slideshow": {
     "slide_type": "fragment"
    }
   },
   "source": [
    "Un caso de ejemplo es Netflix, que realiza recomendaciones de películas a partir del historial de búsqueda y visitas de otros usuarios (filtros colaborativos) y de películas que tienen características similares (basados en contenido)."
   ]
  },
  {
   "cell_type": "markdown",
   "metadata": {
    "slideshow": {
     "slide_type": "subslide"
    }
   },
   "source": [
    "## Métricas"
   ]
  },
  {
   "cell_type": "markdown",
   "metadata": {
    "slideshow": {
     "slide_type": "fragment"
    }
   },
   "source": [
    "Definir medidas de performance varía en relación a lo que se hace para un problema de clasificación común y corriente."
   ]
  },
  {
   "cell_type": "markdown",
   "metadata": {
    "slideshow": {
     "slide_type": "fragment"
    }
   },
   "source": [
    "¿Que hagamos una recomendación y que el usuario no la haya seleccionado, significa que estaba mal?"
   ]
  },
  {
   "cell_type": "markdown",
   "metadata": {
    "slideshow": {
     "slide_type": "fragment"
    }
   },
   "source": [
    "Surgen otras métricas:"
   ]
  },
  {
   "cell_type": "markdown",
   "metadata": {
    "slideshow": {
     "slide_type": "fragment"
    }
   },
   "source": [
    "- Diversidad: mide cuánto se parecen las recomendaciones entre sí (la idea subyacente es que a mayor diversidad, más probabilidades de acertar).\n",
    "- Persistencia: mide el grado en el que ante situaciones semejantes, el criterio de selección se mantiene consistente.\n",
    "- Privacidad: generalmente existen restricciones legales sobre la privacidad de los datos de los usuarios, lo cual limitan o condicionan la utilidad de un determinado sistema.\n",
    "- Serendipity: Mide el grado en que una recomendación es predecible o \"esperable\"."
   ]
  }
 ],
 "metadata": {
  "celltoolbar": "Slideshow",
  "kernelspec": {
   "display_name": "Python 3",
   "language": "python",
   "name": "python3"
  },
  "language_info": {
   "codemirror_mode": {
    "name": "ipython",
    "version": 3
   },
   "file_extension": ".py",
   "mimetype": "text/x-python",
   "name": "python",
   "nbconvert_exporter": "python",
   "pygments_lexer": "ipython3",
   "version": "3.6.3"
  }
 },
 "nbformat": 4,
 "nbformat_minor": 1
}
